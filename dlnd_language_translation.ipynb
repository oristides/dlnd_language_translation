{
  "nbformat": 4,
  "nbformat_minor": 0,
  "metadata": {
    "colab": {
      "name": "dlnd_language_translation.ipynb",
      "version": "0.3.2",
      "views": {},
      "default_view": {},
      "provenance": [],
      "collapsed_sections": []
    },
    "kernelspec": {
      "display_name": "Python 3",
      "language": "python",
      "name": "python3"
    },
    "accelerator": "GPU"
  },
  "cells": [
    {
      "metadata": {
        "id": "__t6cjW5ialw",
        "colab_type": "text"
      },
      "cell_type": "markdown",
      "source": [
        "# Language Translation\n",
        "In this project, you’re going to take a peek into the realm of neural network machine translation.  You’ll be training a sequence to sequence model on a dataset of English and French sentences that can translate new sentences from English to French.\n",
        "## Get the Data\n",
        "Since translating the whole language of English to French will take lots of time to train, we have provided you with a small portion of the English corpus."
      ]
    },
    {
      "metadata": {
        "id": "mtdiQZxjo9r9",
        "colab_type": "code",
        "colab": {
          "autoexec": {
            "startup": false,
            "wait_interval": 0
          },
          "base_uri": "https://localhost:8080/",
          "height": 119
        },
        "outputId": "3c7329e7-8580-40e1-c225-5cd250011e5f",
        "executionInfo": {
          "status": "ok",
          "timestamp": 1533070725576,
          "user_tz": 180,
          "elapsed": 5097,
          "user": {
            "displayName": "Oriel Zambrano",
            "photoUrl": "//lh6.googleusercontent.com/-yUfK7mUt7_Y/AAAAAAAAAAI/AAAAAAAAFaM/9-vxxTZc2EI/s50-c-k-no/photo.jpg",
            "userId": "106644913354205447818"
          }
        }
      },
      "cell_type": "code",
      "source": [
        "!git clone https://github.com/udacity/deep-learning/"
      ],
      "execution_count": 2,
      "outputs": [
        {
          "output_type": "stream",
          "text": [
            "Cloning into 'deep-learning'...\n",
            "remote: Counting objects: 1439, done.\u001b[K\n",
            "remote: Compressing objects: 100% (5/5), done.\u001b[K\n",
            "remote: Total 1439 (delta 0), reused 0 (delta 0), pack-reused 1434\u001b[K\n",
            "Receiving objects: 100% (1439/1439), 47.79 MiB | 34.73 MiB/s, done.\n",
            "Resolving deltas: 100% (603/603), done.\n"
          ],
          "name": "stdout"
        }
      ]
    },
    {
      "metadata": {
        "id": "fj0zxjh3i7GE",
        "colab_type": "code",
        "colab": {
          "autoexec": {
            "startup": false,
            "wait_interval": 0
          }
        }
      },
      "cell_type": "code",
      "source": [
        "import os\n",
        "os.chdir(\"deep-learning/language-translation/\")"
      ],
      "execution_count": 0,
      "outputs": []
    },
    {
      "metadata": {
        "id": "NOkyVYDSialy",
        "colab_type": "code",
        "colab": {
          "autoexec": {
            "startup": false,
            "wait_interval": 0
          }
        }
      },
      "cell_type": "code",
      "source": [
        "\"\"\"\n",
        "DON'T MODIFY ANYTHING IN THIS CELL\n",
        "\"\"\"\n",
        "import helper\n",
        "import problem_unittests as tests\n",
        "\n",
        "source_path = 'data/small_vocab_en'\n",
        "target_path = 'data/small_vocab_fr'\n",
        "source_text = helper.load_data(source_path)\n",
        "target_text = helper.load_data(target_path)"
      ],
      "execution_count": 0,
      "outputs": []
    },
    {
      "metadata": {
        "id": "1yPZ2Bw_ial1",
        "colab_type": "text"
      },
      "cell_type": "markdown",
      "source": [
        "## Explore the Data\n",
        "Play around with view_sentence_range to view different parts of the data."
      ]
    },
    {
      "metadata": {
        "id": "0AYSw8Mrial3",
        "colab_type": "code",
        "colab": {
          "autoexec": {
            "startup": false,
            "wait_interval": 0
          },
          "base_uri": "https://localhost:8080/",
          "height": 493
        },
        "outputId": "d06b98ee-6267-4dae-f4f0-1f2b7fe3b3ab",
        "executionInfo": {
          "status": "ok",
          "timestamp": 1533070739212,
          "user_tz": 180,
          "elapsed": 1532,
          "user": {
            "displayName": "Oriel Zambrano",
            "photoUrl": "//lh6.googleusercontent.com/-yUfK7mUt7_Y/AAAAAAAAAAI/AAAAAAAAFaM/9-vxxTZc2EI/s50-c-k-no/photo.jpg",
            "userId": "106644913354205447818"
          }
        }
      },
      "cell_type": "code",
      "source": [
        "view_sentence_range = (0, 10)\n",
        "\n",
        "\"\"\"\n",
        "DON'T MODIFY ANYTHING IN THIS CELL\n",
        "\"\"\"\n",
        "import numpy as np\n",
        "\n",
        "print('Dataset Stats')\n",
        "print('Roughly the number of unique words: {}'.format(len({word: None for word in source_text.split()})))\n",
        "\n",
        "sentences = source_text.split('\\n')\n",
        "word_counts = [len(sentence.split()) for sentence in sentences]\n",
        "print('Number of sentences: {}'.format(len(sentences)))\n",
        "print('Average number of words in a sentence: {}'.format(np.average(word_counts)))\n",
        "\n",
        "print()\n",
        "print('English sentences {} to {}:'.format(*view_sentence_range))\n",
        "print('\\n'.join(source_text.split('\\n')[view_sentence_range[0]:view_sentence_range[1]]))\n",
        "print()\n",
        "print('French sentences {} to {}:'.format(*view_sentence_range))\n",
        "print('\\n'.join(target_text.split('\\n')[view_sentence_range[0]:view_sentence_range[1]]))"
      ],
      "execution_count": 5,
      "outputs": [
        {
          "output_type": "stream",
          "text": [
            "Dataset Stats\n",
            "Roughly the number of unique words: 227\n",
            "Number of sentences: 137861\n",
            "Average number of words in a sentence: 13.225277634719028\n",
            "\n",
            "English sentences 0 to 10:\n",
            "new jersey is sometimes quiet during autumn , and it is snowy in april .\n",
            "the united states is usually chilly during july , and it is usually freezing in november .\n",
            "california is usually quiet during march , and it is usually hot in june .\n",
            "the united states is sometimes mild during june , and it is cold in september .\n",
            "your least liked fruit is the grape , but my least liked is the apple .\n",
            "his favorite fruit is the orange , but my favorite is the grape .\n",
            "paris is relaxing during december , but it is usually chilly in july .\n",
            "new jersey is busy during spring , and it is never hot in march .\n",
            "our least liked fruit is the lemon , but my least liked is the grape .\n",
            "the united states is sometimes busy during january , and it is sometimes warm in november .\n",
            "\n",
            "French sentences 0 to 10:\n",
            "new jersey est parfois calme pendant l' automne , et il est neigeux en avril .\n",
            "les états-unis est généralement froid en juillet , et il gèle habituellement en novembre .\n",
            "california est généralement calme en mars , et il est généralement chaud en juin .\n",
            "les états-unis est parfois légère en juin , et il fait froid en septembre .\n",
            "votre moins aimé fruit est le raisin , mais mon moins aimé est la pomme .\n",
            "son fruit préféré est l'orange , mais mon préféré est le raisin .\n",
            "paris est relaxant en décembre , mais il est généralement froid en juillet .\n",
            "new jersey est occupé au printemps , et il est jamais chaude en mars .\n",
            "notre fruit est moins aimé le citron , mais mon moins aimé est le raisin .\n",
            "les états-unis est parfois occupé en janvier , et il est parfois chaud en novembre .\n"
          ],
          "name": "stdout"
        }
      ]
    },
    {
      "metadata": {
        "id": "8f8NGJJBiamK",
        "colab_type": "text"
      },
      "cell_type": "markdown",
      "source": [
        "## Implement Preprocessing Function\n",
        "### Text to Word Ids\n",
        "As you did with other RNNs, you must turn the text into a number so the computer can understand it. In the function `text_to_ids()`, you'll turn `source_text` and `target_text` from words to ids.  However, you need to add the `<EOS>` word id at the end of `target_text`.  This will help the neural network predict when the sentence should end.\n",
        "\n",
        "You can get the `<EOS>` word id by doing:\n",
        "```python\n",
        "target_vocab_to_int['<EOS>']\n",
        "```\n",
        "You can get other word ids using `source_vocab_to_int` and `target_vocab_to_int`."
      ]
    },
    {
      "metadata": {
        "id": "3EFPMLxpiamL",
        "colab_type": "code",
        "colab": {
          "autoexec": {
            "startup": false,
            "wait_interval": 0
          },
          "base_uri": "https://localhost:8080/",
          "height": 34
        },
        "outputId": "310f3036-29f6-4c6f-e8c7-321639004ed5",
        "executionInfo": {
          "status": "ok",
          "timestamp": 1533070740082,
          "user_tz": 180,
          "elapsed": 789,
          "user": {
            "displayName": "Oriel Zambrano",
            "photoUrl": "//lh6.googleusercontent.com/-yUfK7mUt7_Y/AAAAAAAAAAI/AAAAAAAAFaM/9-vxxTZc2EI/s50-c-k-no/photo.jpg",
            "userId": "106644913354205447818"
          }
        }
      },
      "cell_type": "code",
      "source": [
        "def text_to_ids(source_text, target_text, source_vocab_to_int, target_vocab_to_int):\n",
        "    from collections import Counter\n",
        "    import re\n",
        "    \"\"\"\n",
        "    Convert source and target text to proper word ids\n",
        "    :param source_text: String that contains all the source text.\n",
        "    :param target_text: String that contains all the target text.\n",
        "    :param source_vocab_to_int: Dictionary to go from the source words to an id\n",
        "    :param target_vocab_to_int: Dictionary to go from the target words to an id\n",
        "    :return: A tuple of lists (source_id_text, target_id_text)\n",
        "    \"\"\"\n",
        "    source_id_text = [[source_vocab_to_int[word] for word in s.split()] for s in source_text.split('\\n')]\n",
        "    target_id_text = [[target_vocab_to_int[word] for word in s.split()] + [target_vocab_to_int['<EOS>']] \n",
        "                      for s in target_text.split('\\n')]\n",
        "    \n",
        "    return source_id_text, target_id_text\n",
        "\n",
        "\"\"\"\n",
        "DON'T MODIFY ANYTHING IN THIS CELL THAT IS BELOW THIS LINE\n",
        "\"\"\"\n",
        "tests.test_text_to_ids(text_to_ids)"
      ],
      "execution_count": 6,
      "outputs": [
        {
          "output_type": "stream",
          "text": [
            "Tests Passed\n"
          ],
          "name": "stdout"
        }
      ]
    },
    {
      "metadata": {
        "id": "kJHUOMyJiamQ",
        "colab_type": "text"
      },
      "cell_type": "markdown",
      "source": [
        "### Preprocess all the data and save it\n",
        "Running the code cell below will preprocess all the data and save it to file."
      ]
    },
    {
      "metadata": {
        "id": "m21qOG4UiamS",
        "colab_type": "code",
        "colab": {
          "autoexec": {
            "startup": false,
            "wait_interval": 0
          }
        }
      },
      "cell_type": "code",
      "source": [
        "\"\"\"\n",
        "DON'T MODIFY ANYTHING IN THIS CELL\n",
        "\"\"\"\n",
        "helper.preprocess_and_save_data(source_path, target_path, text_to_ids)"
      ],
      "execution_count": 0,
      "outputs": []
    },
    {
      "metadata": {
        "id": "Nkaw9-cSiamW",
        "colab_type": "text"
      },
      "cell_type": "markdown",
      "source": [
        "# Check Point\n",
        "This is your first checkpoint. If you ever decide to come back to this notebook or have to restart the notebook, you can start from here. The preprocessed data has been saved to disk."
      ]
    },
    {
      "metadata": {
        "id": "4XiFiCHciamX",
        "colab_type": "code",
        "colab": {
          "autoexec": {
            "startup": false,
            "wait_interval": 0
          }
        }
      },
      "cell_type": "code",
      "source": [
        "\"\"\"\n",
        "DON'T MODIFY ANYTHING IN THIS CELL\n",
        "\"\"\"\n",
        "import numpy as np\n",
        "import helper\n",
        "import problem_unittests as tests\n",
        "\n",
        "(source_int_text, target_int_text), (source_vocab_to_int, target_vocab_to_int), _ = helper.load_preprocess()"
      ],
      "execution_count": 0,
      "outputs": []
    },
    {
      "metadata": {
        "id": "G-JVaHukiamb",
        "colab_type": "text"
      },
      "cell_type": "markdown",
      "source": [
        "### Check the Version of TensorFlow and Access to GPU\n",
        "This will check to make sure you have the correct version of TensorFlow and access to a GPU"
      ]
    },
    {
      "metadata": {
        "id": "ERmX67i8iamb",
        "colab_type": "code",
        "colab": {
          "autoexec": {
            "startup": false,
            "wait_interval": 0
          },
          "base_uri": "https://localhost:8080/",
          "height": 51
        },
        "outputId": "a689ee0d-b690-4656-830b-80d773e8c1b7",
        "executionInfo": {
          "status": "ok",
          "timestamp": 1533070746631,
          "user_tz": 180,
          "elapsed": 1440,
          "user": {
            "displayName": "Oriel Zambrano",
            "photoUrl": "//lh6.googleusercontent.com/-yUfK7mUt7_Y/AAAAAAAAAAI/AAAAAAAAFaM/9-vxxTZc2EI/s50-c-k-no/photo.jpg",
            "userId": "106644913354205447818"
          }
        }
      },
      "cell_type": "code",
      "source": [
        "\"\"\"\n",
        "DON'T MODIFY ANYTHING IN THIS CELL\n",
        "\"\"\"\n",
        "from distutils.version import LooseVersion\n",
        "import warnings\n",
        "import tensorflow as tf\n",
        "from tensorflow.python.layers.core import Dense\n",
        "\n",
        "# Check TensorFlow Version\n",
        "assert LooseVersion(tf.__version__) >= LooseVersion('1.1'), 'Please use TensorFlow version 1.1 or newer'\n",
        "print('TensorFlow Version: {}'.format(tf.__version__))\n",
        "\n",
        "# Check for a GPU\n",
        "if not tf.test.gpu_device_name():\n",
        "    warnings.warn('No GPU found. Please use a GPU to train your neural network.')\n",
        "else:\n",
        "    print('Default GPU Device: {}'.format(tf.test.gpu_device_name()))"
      ],
      "execution_count": 9,
      "outputs": [
        {
          "output_type": "stream",
          "text": [
            "TensorFlow Version: 1.9.0\n",
            "Default GPU Device: /device:GPU:0\n"
          ],
          "name": "stdout"
        }
      ]
    },
    {
      "metadata": {
        "id": "bBD78VYriaml",
        "colab_type": "text"
      },
      "cell_type": "markdown",
      "source": [
        "## Build the Neural Network\n",
        "You'll build the components necessary to build a Sequence-to-Sequence model by implementing the following functions below:\n",
        "- `model_inputs`\n",
        "- `process_decoder_input`\n",
        "- `encoding_layer`\n",
        "- `decoding_layer_train`\n",
        "- `decoding_layer_infer`\n",
        "- `decoding_layer`\n",
        "- `seq2seq_model`\n",
        "\n",
        "### Input\n",
        "Implement the `model_inputs()` function to create TF Placeholders for the Neural Network. It should create the following placeholders:\n",
        "\n",
        "- Input text placeholder named \"input\" using the TF Placeholder name parameter with rank 2.\n",
        "- Targets placeholder with rank 2.\n",
        "- Learning rate placeholder with rank 0.\n",
        "- Keep probability placeholder named \"keep_prob\" using the TF Placeholder name parameter with rank 0.\n",
        "- Target sequence length placeholder named \"target_sequence_length\" with rank 1\n",
        "- Max target sequence length tensor named \"max_target_len\" getting its value from applying tf.reduce_max on the target_sequence_length placeholder. Rank 0.\n",
        "- Source sequence length placeholder named \"source_sequence_length\" with rank 1\n",
        "\n",
        "Return the placeholders in the following the tuple (input, targets, learning rate, keep probability, target sequence length, max target sequence length, source sequence length)"
      ]
    },
    {
      "metadata": {
        "id": "FPRa6j6xiamm",
        "colab_type": "code",
        "colab": {
          "autoexec": {
            "startup": false,
            "wait_interval": 0
          },
          "base_uri": "https://localhost:8080/",
          "height": 34
        },
        "outputId": "6b05eeeb-d0d9-4cb1-f76f-5971b0273e65",
        "executionInfo": {
          "status": "ok",
          "timestamp": 1533070748128,
          "user_tz": 180,
          "elapsed": 1470,
          "user": {
            "displayName": "Oriel Zambrano",
            "photoUrl": "//lh6.googleusercontent.com/-yUfK7mUt7_Y/AAAAAAAAAAI/AAAAAAAAFaM/9-vxxTZc2EI/s50-c-k-no/photo.jpg",
            "userId": "106644913354205447818"
          }
        }
      },
      "cell_type": "code",
      "source": [
        "def model_inputs():\n",
        "    \"\"\"\n",
        "    Create TF Placeholders for input, targets, learning rate, and lengths of source and target sequences.\n",
        "    :return: Tuple (input, targets, learning rate, keep probability, target sequence length,\n",
        "    max target sequence length, source sequence length)\n",
        "    \"\"\"\n",
        "    input = tf.placeholder(tf.int32, [None, None], name='input')\n",
        "    targets = tf.placeholder(tf.int32, [None, None], name='targets')\n",
        "    learning_rate = tf.placeholder(tf.float32, name='learning_rate')\n",
        "    keep_probs = tf.placeholder(tf.float32, name='keep_prob')\n",
        "    tar_seq_len = tf.placeholder(tf.int32,[None], name='target_sequence_length')\n",
        "    max_tar_seq_len = tf.reduce_max(tar_seq_len, name='max_seq_len')\n",
        "    src_se_len = tf.placeholder(tf.int32,[None], name='source_sequence_length')\n",
        "    \n",
        "    return input, targets, learning_rate, keep_probs, tar_seq_len, max_tar_seq_len, src_se_len\n",
        "\n",
        "\n",
        "\"\"\"\n",
        "DON'T MODIFY ANYTHING IN THIS CELL THAT IS BELOW THIS LINE\n",
        "\"\"\"\n",
        "tests.test_model_inputs(model_inputs)"
      ],
      "execution_count": 10,
      "outputs": [
        {
          "output_type": "stream",
          "text": [
            "Tests Passed\n"
          ],
          "name": "stdout"
        }
      ]
    },
    {
      "metadata": {
        "id": "leeELZqWiamq",
        "colab_type": "text"
      },
      "cell_type": "markdown",
      "source": [
        "### Process Decoder Input\n",
        "Implement `process_decoder_input` by removing the last word id from each batch in `target_data` and concat the GO ID to the begining of each batch."
      ]
    },
    {
      "metadata": {
        "id": "UHoSLgIniamr",
        "colab_type": "code",
        "colab": {
          "autoexec": {
            "startup": false,
            "wait_interval": 0
          },
          "base_uri": "https://localhost:8080/",
          "height": 34
        },
        "outputId": "56ba179b-02d4-47cf-b7af-ddbb24958dea",
        "executionInfo": {
          "status": "ok",
          "timestamp": 1533070749095,
          "user_tz": 180,
          "elapsed": 863,
          "user": {
            "displayName": "Oriel Zambrano",
            "photoUrl": "//lh6.googleusercontent.com/-yUfK7mUt7_Y/AAAAAAAAAAI/AAAAAAAAFaM/9-vxxTZc2EI/s50-c-k-no/photo.jpg",
            "userId": "106644913354205447818"
          }
        }
      },
      "cell_type": "code",
      "source": [
        "def process_decoder_input(target_data, target_vocab_to_int, batch_size):\n",
        "    \"\"\"\n",
        "    Preprocess target data for encoding\n",
        "    :param target_data: Target Placehoder\n",
        "    :param target_vocab_to_int: Dictionary to go from the target words to an id\n",
        "    :param batch_size: Batch Size\n",
        "    :return: Preprocessed target data\n",
        "    \"\"\"\n",
        "    stride_encod = tf.strided_slice(target_data, [0,0], [batch_size, -1], [1,1])\n",
        "    decoder_input = tf.concat([tf.fill([batch_size,1], target_vocab_to_int['<GO>']), stride_encod], 1)\n",
        "    return decoder_input\n",
        "\n",
        "\"\"\"\n",
        "DON'T MODIFY ANYTHING IN THIS CELL THAT IS BELOW THIS LINE\n",
        "\"\"\"\n",
        "tests.test_process_encoding_input(process_decoder_input)"
      ],
      "execution_count": 11,
      "outputs": [
        {
          "output_type": "stream",
          "text": [
            "Tests Passed\n"
          ],
          "name": "stdout"
        }
      ]
    },
    {
      "metadata": {
        "id": "KcHLuxpkiamy",
        "colab_type": "text"
      },
      "cell_type": "markdown",
      "source": [
        "### Encoding\n",
        "Implement `encoding_layer()` to create a Encoder RNN layer:\n",
        " * Embed the encoder input using [`tf.contrib.layers.embed_sequence`](https://www.tensorflow.org/api_docs/python/tf/contrib/layers/embed_sequence)\n",
        " * Construct a [stacked](https://github.com/tensorflow/tensorflow/blob/6947f65a374ebf29e74bb71e36fd82760056d82c/tensorflow/docs_src/tutorials/recurrent.md#stacking-multiple-lstms) [`tf.contrib.rnn.LSTMCell`](https://www.tensorflow.org/api_docs/python/tf/contrib/rnn/LSTMCell) wrapped in a [`tf.contrib.rnn.DropoutWrapper`](https://www.tensorflow.org/api_docs/python/tf/contrib/rnn/DropoutWrapper)\n",
        " * Pass cell and embedded input to [`tf.nn.dynamic_rnn()`](https://www.tensorflow.org/api_docs/python/tf/nn/dynamic_rnn)"
      ]
    },
    {
      "metadata": {
        "id": "os2N_xlZiamz",
        "colab_type": "code",
        "colab": {
          "autoexec": {
            "startup": false,
            "wait_interval": 0
          },
          "base_uri": "https://localhost:8080/",
          "height": 34
        },
        "outputId": "20042c91-b5ed-4d1c-91d9-44121590d182",
        "executionInfo": {
          "status": "ok",
          "timestamp": 1533070755703,
          "user_tz": 180,
          "elapsed": 6527,
          "user": {
            "displayName": "Oriel Zambrano",
            "photoUrl": "//lh6.googleusercontent.com/-yUfK7mUt7_Y/AAAAAAAAAAI/AAAAAAAAFaM/9-vxxTZc2EI/s50-c-k-no/photo.jpg",
            "userId": "106644913354205447818"
          }
        }
      },
      "cell_type": "code",
      "source": [
        "from imp import reload\n",
        "reload(tests)\n",
        "\n",
        "def encoding_layer(rnn_inputs, rnn_size, num_layers, keep_prob, \n",
        "                   source_sequence_length, source_vocab_size, \n",
        "                   encoding_embedding_size):\n",
        "    \"\"\"\n",
        "    Create encoding layer\n",
        "    :param rnn_inputs: Inputs for the RNN\n",
        "    :param rnn_size: RNN Size\n",
        "    :param num_layers: Number of layers\n",
        "    :param keep_prob: Dropout keep probability\n",
        "    :param source_sequence_length: a list of the lengths of each sequence in the batch\n",
        "    :param source_vocab_size: vocabulary size of source data\n",
        "    :param encoding_embedding_size: embedding size of source data\n",
        "    :return: tuple (RNN output, RNN state)\n",
        "    \"\"\"\n",
        "    \n",
        "    stacked_lstm = tf.contrib.rnn.MultiRNNCell([tf.contrib.rnn.DropoutWrapper(tf.contrib.rnn.LSTMCell(rnn_size), output_keep_prob=keep_prob) for _ in range(num_layers)])\n",
        "\n",
        "    embed_encoder = tf.contrib.layers.embed_sequence(rnn_inputs, vocab_size = source_vocab_size, embed_dim = encoding_embedding_size)\n",
        "\n",
        "    Outputs, FinalState = tf.nn.dynamic_rnn(stacked_lstm, embed_encoder,\n",
        "                                            sequence_length=source_sequence_length,\n",
        "                                            dtype=tf.float32)\n",
        "    \n",
        "    return Outputs, FinalState\n",
        "\n",
        "\n",
        "    \n",
        "\"\"\"\n",
        "DON'T MODIFY ANYTHING IN THIS CELL THAT IS BELOW THIS LINE\n",
        "\"\"\"\n",
        "tests.test_encoding_layer(encoding_layer)"
      ],
      "execution_count": 12,
      "outputs": [
        {
          "output_type": "stream",
          "text": [
            "Tests Passed\n"
          ],
          "name": "stdout"
        }
      ]
    },
    {
      "metadata": {
        "id": "XtgAW49ziam3",
        "colab_type": "text"
      },
      "cell_type": "markdown",
      "source": [
        "### Decoding - Training\n",
        "Create a training decoding layer:\n",
        "* Create a [`tf.contrib.seq2seq.TrainingHelper`](https://www.tensorflow.org/api_docs/python/tf/contrib/seq2seq/TrainingHelper) \n",
        "* Create a [`tf.contrib.seq2seq.BasicDecoder`](https://www.tensorflow.org/api_docs/python/tf/contrib/seq2seq/BasicDecoder)\n",
        "* Obtain the decoder outputs from [`tf.contrib.seq2seq.dynamic_decode`](https://www.tensorflow.org/api_docs/python/tf/contrib/seq2seq/dynamic_decode)"
      ]
    },
    {
      "metadata": {
        "id": "ei6H09D2iam5",
        "colab_type": "code",
        "colab": {
          "autoexec": {
            "startup": false,
            "wait_interval": 0
          },
          "base_uri": "https://localhost:8080/",
          "height": 34
        },
        "outputId": "66f17b7d-972d-4fd4-9ac6-cc6f7ad006d8",
        "executionInfo": {
          "status": "ok",
          "timestamp": 1533070756921,
          "user_tz": 180,
          "elapsed": 1181,
          "user": {
            "displayName": "Oriel Zambrano",
            "photoUrl": "//lh6.googleusercontent.com/-yUfK7mUt7_Y/AAAAAAAAAAI/AAAAAAAAFaM/9-vxxTZc2EI/s50-c-k-no/photo.jpg",
            "userId": "106644913354205447818"
          }
        }
      },
      "cell_type": "code",
      "source": [
        "\n",
        "def decoding_layer_train(encoder_state, dec_cell, dec_embed_input, \n",
        "                         target_sequence_length, max_summary_length, \n",
        "                         output_layer, keep_prob):\n",
        "    \"\"\"\n",
        "    Create a decoding layer for training\n",
        "    :param encoder_state: Encoder State\n",
        "    :param dec_cell: Decoder RNN Cell\n",
        "    :param dec_embed_input: Decoder embedded input\n",
        "    :param target_sequence_length: The lengths of each sequence in the target batch\n",
        "    :param max_summary_length: The length of the longest sequence in the batch\n",
        "    :param output_layer: Function to apply the output layer\n",
        "    :param keep_prob: Dropout keep probability\n",
        "    :return: BasicDecoderOutput containing training logits and sample_id\n",
        "    \"\"\"\n",
        "    \n",
        "  \n",
        "    helper=tf.contrib.seq2seq.TrainingHelper(dec_embed_input, target_sequence_length)\n",
        "    \n",
        "    decoder=tf.contrib.seq2seq.BasicDecoder(\n",
        "        cell=tf.contrib.rnn.DropoutWrapper(dec_cell, output_keep_prob=keep_prob), \n",
        "        helper=helper,\n",
        "        initial_state=encoder_state, \n",
        "        output_layer=output_layer)\n",
        "\n",
        "    final_outputs,_ ,_ = tf.contrib.seq2seq.dynamic_decode(\n",
        "        decoder= decoder,\n",
        "        maximum_iterations=max_summary_length,\n",
        "        scope='decoding')\n",
        "\n",
        "\n",
        "    # TODO: Implement Function\n",
        "    return final_outputs\n",
        "\n",
        "\n",
        "\n",
        "\"\"\"\n",
        "DON'T MODIFY ANYTHING IN THIS CELL THAT IS BELOW THIS LINE\n",
        "\"\"\"\n",
        "tests.test_decoding_layer_train(decoding_layer_train)"
      ],
      "execution_count": 13,
      "outputs": [
        {
          "output_type": "stream",
          "text": [
            "Tests Passed\n"
          ],
          "name": "stdout"
        }
      ]
    },
    {
      "metadata": {
        "id": "gs1CA7_3iam9",
        "colab_type": "text"
      },
      "cell_type": "markdown",
      "source": [
        "### Decoding - Inference\n",
        "Create inference decoder:\n",
        "* Create a [`tf.contrib.seq2seq.GreedyEmbeddingHelper`](https://www.tensorflow.org/api_docs/python/tf/contrib/seq2seq/GreedyEmbeddingHelper)\n",
        "* Create a [`tf.contrib.seq2seq.BasicDecoder`](https://www.tensorflow.org/api_docs/python/tf/contrib/seq2seq/BasicDecoder)\n",
        "* Obtain the decoder outputs from [`tf.contrib.seq2seq.dynamic_decode`](https://www.tensorflow.org/api_docs/python/tf/contrib/seq2seq/dynamic_decode)"
      ]
    },
    {
      "metadata": {
        "id": "ymSvnFjWiam-",
        "colab_type": "code",
        "colab": {
          "autoexec": {
            "startup": false,
            "wait_interval": 0
          },
          "base_uri": "https://localhost:8080/",
          "height": 34
        },
        "outputId": "f55305f1-2361-4d3a-e243-4238c23cfb91",
        "executionInfo": {
          "status": "ok",
          "timestamp": 1533070758116,
          "user_tz": 180,
          "elapsed": 1087,
          "user": {
            "displayName": "Oriel Zambrano",
            "photoUrl": "//lh6.googleusercontent.com/-yUfK7mUt7_Y/AAAAAAAAAAI/AAAAAAAAFaM/9-vxxTZc2EI/s50-c-k-no/photo.jpg",
            "userId": "106644913354205447818"
          }
        }
      },
      "cell_type": "code",
      "source": [
        "def decoding_layer_infer(encoder_state, dec_cell, dec_embeddings, start_of_sequence_id,\n",
        "                         end_of_sequence_id, max_target_sequence_length,\n",
        "                         vocab_size, output_layer, batch_size, keep_prob):\n",
        "    \"\"\"\n",
        "    Create a decoding layer for inference\n",
        "    :param encoder_state: Encoder state\n",
        "    :param dec_cell: Decoder RNN Cell\n",
        "    :param dec_embeddings: Decoder embeddings\n",
        "    :param start_of_sequence_id: GO ID\n",
        "    :param end_of_sequence_id: EOS Id\n",
        "    :param max_target_sequence_length: Maximum length of target sequences\n",
        "    :param vocab_size: Size of decoder/target vocabulary\n",
        "    :param decoding_scope: TenorFlow Variable Scope for decoding\n",
        "    :param output_layer: Function to apply the output layer\n",
        "    :param batch_size: Batch size\n",
        "    :param keep_prob: Dropout keep probability\n",
        "    :return: BasicDecoderOutput containing inference logits and sample_id\n",
        "    \"\"\"\n",
        "    \n",
        "    helper=tf.contrib.seq2seq.GreedyEmbeddingHelper(dec_embeddings,\n",
        "                                                    start_tokens=tf.constant(start_of_sequence_id, shape=[batch_size]),\n",
        "                                                    end_token=end_of_sequence_id)\n",
        "    \n",
        "    decoder=tf.contrib.seq2seq.BasicDecoder(\n",
        "        cell=tf.contrib.rnn.DropoutWrapper(dec_cell, output_keep_prob=keep_prob), \n",
        "        helper=helper,\n",
        "        initial_state=encoder_state, \n",
        "        output_layer=output_layer)\n",
        "\n",
        "    final_outputs,_ ,_ = tf.contrib.seq2seq.dynamic_decode(\n",
        "        decoder= decoder,\n",
        "        maximum_iterations=max_target_sequence_length,\n",
        "        scope='decoding')\n",
        "\n",
        "\n",
        "    # TODO: Implement Function\n",
        "    return final_outputs\n",
        "\n",
        "\n",
        "\n",
        "\"\"\"\n",
        "DON'T MODIFY ANYTHING IN THIS CELL THAT IS BELOW THIS LINE\n",
        "\"\"\"\n",
        "tests.test_decoding_layer_infer(decoding_layer_infer)"
      ],
      "execution_count": 14,
      "outputs": [
        {
          "output_type": "stream",
          "text": [
            "Tests Passed\n"
          ],
          "name": "stdout"
        }
      ]
    },
    {
      "metadata": {
        "id": "fpAmUsAoianG",
        "colab_type": "text"
      },
      "cell_type": "markdown",
      "source": [
        "### Build the Decoding Layer\n",
        "Implement `decoding_layer()` to create a Decoder RNN layer.\n",
        "\n",
        "* Embed the target sequences\n",
        "* Construct the decoder LSTM cell (just like you constructed the encoder cell above)\n",
        "* Create an output layer to map the outputs of the decoder to the elements of our vocabulary\n",
        "* Use the your `decoding_layer_train(encoder_state, dec_cell, dec_embed_input, target_sequence_length, max_target_sequence_length, output_layer, keep_prob)` function to get the training logits.\n",
        "* Use your `decoding_layer_infer(encoder_state, dec_cell, dec_embeddings, start_of_sequence_id, end_of_sequence_id, max_target_sequence_length, vocab_size, output_layer, batch_size, keep_prob)` function to get the inference logits.\n",
        "\n",
        "Note: You'll need to use [tf.variable_scope](https://www.tensorflow.org/api_docs/python/tf/variable_scope) to share variables between training and inference."
      ]
    },
    {
      "metadata": {
        "id": "60wsncXVianG",
        "colab_type": "code",
        "colab": {
          "autoexec": {
            "startup": false,
            "wait_interval": 0
          },
          "base_uri": "https://localhost:8080/",
          "height": 34
        },
        "outputId": "e4435b69-c170-469b-9ae9-d666ddb1ff33",
        "executionInfo": {
          "status": "ok",
          "timestamp": 1533070759903,
          "user_tz": 180,
          "elapsed": 1657,
          "user": {
            "displayName": "Oriel Zambrano",
            "photoUrl": "//lh6.googleusercontent.com/-yUfK7mUt7_Y/AAAAAAAAAAI/AAAAAAAAFaM/9-vxxTZc2EI/s50-c-k-no/photo.jpg",
            "userId": "106644913354205447818"
          }
        }
      },
      "cell_type": "code",
      "source": [
        "def decoding_layer(dec_input, encoder_state,\n",
        "                   target_sequence_length, max_target_sequence_length,rnn_size,\n",
        "                   num_layers, target_vocab_to_int, target_vocab_size,\n",
        "                   batch_size, keep_prob, decoding_embedding_size):\n",
        "    \"\"\"\n",
        "    Create decoding layer\n",
        "    :param dec_input: Decoder input\n",
        "    :param encoder_state: Encoder state\n",
        "    :param target_sequence_length: The lengths of each sequence in the target batch\n",
        "    :param max_target_sequence_length: Maximum length of target sequences\n",
        "    :param rnn_size: RNN Size\n",
        "    :param num_layers: Number of layers\n",
        "    :param target_vocab_to_int: Dictionary to go from the target words to an id\n",
        "    :param target_vocab_size: Size of target vocabulary\n",
        "    :param batch_size: The size of the batch\n",
        "    :param keep_prob: Dropout keep probability\n",
        "    :param decoding_embedding_size: Decoding embedding size\n",
        "    :return: Tuple of (Training BasicDecoderOutput, Inference BasicDecoderOutput)\n",
        "    \"\"\"\n",
        "    \n",
        "    decoder_embeddings = tf.Variable(tf.random_normal([target_vocab_size, decoding_embedding_size]))\n",
        "    dec_embed_input = tf.nn.embedding_lookup(decoder_embeddings, dec_input)\n",
        "    output_layer= Dense(target_vocab_size,\n",
        "                                 kernel_initializer=tf.truncated_normal_initializer(mean=0.0, stddev=0.1),\n",
        "                                 name='output_layer')\n",
        "    \n",
        "    lstm= tf.contrib.rnn.MultiRNNCell([tf.contrib.rnn.DropoutWrapper(tf.contrib.rnn.LSTMCell(rnn_size), output_keep_prob=keep_prob) for _ in range(num_layers)])\n",
        "    with tf.variable_scope('decode'):\n",
        "        BasicDecodertrain_logits= decoding_layer_train(encoder_state, lstm, dec_embed_input, \n",
        "                         target_sequence_length, max_target_sequence_length, \n",
        "                         output_layer, keep_prob)\n",
        "        \n",
        "    with tf.variable_scope('decode', reuse=True):\n",
        "        BasicDecoder_infer_logits=  decoding_layer_infer(encoder_state, lstm, decoder_embeddings, target_vocab_to_int['<GO>'],\n",
        "                         target_vocab_to_int['<EOS>'], max_target_sequence_length,\n",
        "                         target_vocab_size, output_layer, batch_size, keep_prob)\n",
        "        \n",
        "    \n",
        "    \n",
        "    \n",
        "    \n",
        "    \n",
        "    return BasicDecodertrain_logits, BasicDecoder_infer_logits\n",
        "\n",
        "\n",
        "\n",
        "\"\"\"\n",
        "DON'T MODIFY ANYTHING IN THIS CELL THAT IS BELOW THIS LINE\n",
        "\"\"\"\n",
        "tests.test_decoding_layer(decoding_layer)"
      ],
      "execution_count": 15,
      "outputs": [
        {
          "output_type": "stream",
          "text": [
            "Tests Passed\n"
          ],
          "name": "stdout"
        }
      ]
    },
    {
      "metadata": {
        "id": "jiIi0IO-ianK",
        "colab_type": "text"
      },
      "cell_type": "markdown",
      "source": [
        "### Build the Neural Network\n",
        "Apply the functions you implemented above to:\n",
        "\n",
        "- Encode the input using your `encoding_layer(rnn_inputs, rnn_size, num_layers, keep_prob,  source_sequence_length, source_vocab_size, encoding_embedding_size)`.\n",
        "- Process target data using your `process_decoder_input(target_data, target_vocab_to_int, batch_size)` function.\n",
        "- Decode the encoded input using your `decoding_layer(dec_input, enc_state, target_sequence_length, max_target_sentence_length, rnn_size, num_layers, target_vocab_to_int, target_vocab_size, batch_size, keep_prob, dec_embedding_size)` function."
      ]
    },
    {
      "metadata": {
        "id": "02UgR7WTianL",
        "colab_type": "code",
        "colab": {
          "autoexec": {
            "startup": false,
            "wait_interval": 0
          },
          "base_uri": "https://localhost:8080/",
          "height": 34
        },
        "outputId": "f47bba44-afe1-493d-db7a-6a7eaa6e6db0",
        "executionInfo": {
          "status": "ok",
          "timestamp": 1533070762233,
          "user_tz": 180,
          "elapsed": 2297,
          "user": {
            "displayName": "Oriel Zambrano",
            "photoUrl": "//lh6.googleusercontent.com/-yUfK7mUt7_Y/AAAAAAAAAAI/AAAAAAAAFaM/9-vxxTZc2EI/s50-c-k-no/photo.jpg",
            "userId": "106644913354205447818"
          }
        }
      },
      "cell_type": "code",
      "source": [
        "def seq2seq_model(input_data, target_data, keep_prob, batch_size,\n",
        "                  source_sequence_length, target_sequence_length,\n",
        "                  max_target_sentence_length,\n",
        "                  source_vocab_size, target_vocab_size,\n",
        "                  enc_embedding_size, dec_embedding_size,\n",
        "                  rnn_size, num_layers, target_vocab_to_int):\n",
        "    \n",
        "    \"\"\"\n",
        "    Build the Sequence-to-Sequence part of the neural network\n",
        "    :param input_data: Input placeholder\n",
        "    :param target_data: Target placeholder\n",
        "    :param keep_prob: Dropout keep probability placeholder\n",
        "    :param batch_size: Batch Size\n",
        "    :param source_sequence_length: Sequence Lengths of source sequences in the batch\n",
        "    :param target_sequence_length: Sequence Lengths of target sequences in the batch\n",
        "    :param max_target_sequence_length: Maximum length of target sequences\n",
        "    :param source_vocab_size: Source vocabulary size\n",
        "    :param target_vocab_size: Target vocabulary size\n",
        "    :param enc_embedding_size: Decoder embedding size\n",
        "    :param dec_embedding_size: Encoder embedding size\n",
        "    :param rnn_size: RNN Size\n",
        "    :param num_layers: Number of layers\n",
        "    :param target_vocab_to_int: Dictionary to go from the target words to an id\n",
        "    :return: Tuple of (Training BasicDecoderOutput, Inference BasicDecoderOutput)\n",
        "    \"\"\"\n",
        "    \n",
        "    \n",
        "    outputs, final_state = encoding_layer(input_data, rnn_size, \n",
        "                                          num_layers, keep_prob, \n",
        "                                          source_sequence_length, \n",
        "                                          source_vocab_size, \n",
        "                                          enc_embedding_size)\n",
        "    dec_input = process_decoder_input(target_data, target_vocab_to_int, batch_size)\n",
        "    \n",
        "    logits_train, logits_infer=decoding_layer(dec_input, \n",
        "                                              final_state, \n",
        "                                              target_sequence_length, \n",
        "                                              max_target_sentence_length,\n",
        "                                              rnn_size, \n",
        "                                              num_layers, \n",
        "                                              target_vocab_to_int, \n",
        "                                              target_vocab_size, \n",
        "                                              batch_size, \n",
        "                                              keep_prob, \n",
        "                                              dec_embedding_size)\n",
        "    return logits_train, logits_infer\n",
        "        \n",
        "\n",
        "\n",
        "\"\"\"\n",
        "DON'T MODIFY ANYTHING IN THIS CELL THAT IS BELOW THIS LINE\n",
        "\"\"\"\n",
        "tests.test_seq2seq_model(seq2seq_model)"
      ],
      "execution_count": 16,
      "outputs": [
        {
          "output_type": "stream",
          "text": [
            "Tests Passed\n"
          ],
          "name": "stdout"
        }
      ]
    },
    {
      "metadata": {
        "id": "WnDOLN-0ianP",
        "colab_type": "text"
      },
      "cell_type": "markdown",
      "source": [
        "## Neural Network Training\n",
        "### Hyperparameters\n",
        "Tune the following parameters:\n",
        "\n",
        "- Set `epochs` to the number of epochs.\n",
        "- Set `batch_size` to the batch size.\n",
        "- Set `rnn_size` to the size of the RNNs.\n",
        "- Set `num_layers` to the number of layers.\n",
        "- Set `encoding_embedding_size` to the size of the embedding for the encoder.\n",
        "- Set `decoding_embedding_size` to the size of the embedding for the decoder.\n",
        "- Set `learning_rate` to the learning rate.\n",
        "- Set `keep_probability` to the Dropout keep probability\n",
        "- Set `display_step` to state how many steps between each debug output statement"
      ]
    },
    {
      "metadata": {
        "id": "FSAIMujyianP",
        "colab_type": "code",
        "colab": {
          "autoexec": {
            "startup": false,
            "wait_interval": 0
          }
        }
      },
      "cell_type": "code",
      "source": [
        "# Number of Epochs\n",
        "epochs =10\n",
        "# Batch Size\n",
        "batch_size = 512\n",
        "# RNN Size\n",
        "rnn_size = 512\n",
        "# Number of Layers\n",
        "num_layers = 3\n",
        "# Embedding Size\n",
        "encoding_embedding_size = int(rnn_size/2)\n",
        "decoding_embedding_size = int(rnn_size/2)\n",
        "# Learning Rate\n",
        "learning_rate = 0.001\n",
        "# Dropout Keep Probability\n",
        "keep_probability = 0.6\n",
        "display_step = 50"
      ],
      "execution_count": 0,
      "outputs": []
    },
    {
      "metadata": {
        "id": "cxNRBOeYianT",
        "colab_type": "text"
      },
      "cell_type": "markdown",
      "source": [
        "### Build the Graph\n",
        "Build the graph using the neural network you implemented."
      ]
    },
    {
      "metadata": {
        "id": "q2otZSBsianU",
        "colab_type": "code",
        "colab": {
          "autoexec": {
            "startup": false,
            "wait_interval": 0
          }
        }
      },
      "cell_type": "code",
      "source": [
        "\"\"\"\n",
        "DON'T MODIFY ANYTHING IN THIS CELL\n",
        "\"\"\"\n",
        "save_path = 'checkpoints/dev'\n",
        "(source_int_text, target_int_text), (source_vocab_to_int, target_vocab_to_int), _ = helper.load_preprocess()\n",
        "max_target_sentence_length = max([len(sentence) for sentence in source_int_text])\n",
        "\n",
        "train_graph = tf.Graph()\n",
        "with train_graph.as_default():\n",
        "    input_data, targets, lr, keep_prob, target_sequence_length, max_target_sequence_length, source_sequence_length = model_inputs()\n",
        "\n",
        "    #sequence_length = tf.placeholder_with_default(max_target_sentence_length, None, name='sequence_length')\n",
        "    input_shape = tf.shape(input_data)\n",
        "\n",
        "    train_logits, inference_logits = seq2seq_model(tf.reverse(input_data, [-1]),\n",
        "                                                   targets,\n",
        "                                                   keep_prob,\n",
        "                                                   batch_size,\n",
        "                                                   source_sequence_length,\n",
        "                                                   target_sequence_length,\n",
        "                                                   max_target_sequence_length,\n",
        "                                                   len(source_vocab_to_int),\n",
        "                                                   len(target_vocab_to_int),\n",
        "                                                   encoding_embedding_size,\n",
        "                                                   decoding_embedding_size,\n",
        "                                                   rnn_size,\n",
        "                                                   num_layers,\n",
        "                                                   target_vocab_to_int)\n",
        "\n",
        "\n",
        "    training_logits = tf.identity(train_logits.rnn_output, name='logits')\n",
        "    inference_logits = tf.identity(inference_logits.sample_id, name='predictions')\n",
        "\n",
        "    masks = tf.sequence_mask(target_sequence_length, max_target_sequence_length, dtype=tf.float32, name='masks')\n",
        "\n",
        "    with tf.name_scope(\"optimization\"):\n",
        "        # Loss function\n",
        "        cost = tf.contrib.seq2seq.sequence_loss(\n",
        "            training_logits,\n",
        "            targets,\n",
        "            masks)\n",
        "\n",
        "        # Optimizer\n",
        "        optimizer = tf.train.AdamOptimizer(lr)\n",
        "\n",
        "        # Gradient Clipping\n",
        "        gradients = optimizer.compute_gradients(cost)\n",
        "        capped_gradients = [(tf.clip_by_value(grad, -1., 1.), var) for grad, var in gradients if grad is not None]\n",
        "        train_op = optimizer.apply_gradients(capped_gradients)\n"
      ],
      "execution_count": 0,
      "outputs": []
    },
    {
      "metadata": {
        "id": "5-Iamt2dianW",
        "colab_type": "text"
      },
      "cell_type": "markdown",
      "source": [
        "Batch and pad the source and target sequences"
      ]
    },
    {
      "metadata": {
        "id": "BYAkFB6EianX",
        "colab_type": "code",
        "colab": {
          "autoexec": {
            "startup": false,
            "wait_interval": 0
          }
        }
      },
      "cell_type": "code",
      "source": [
        "\"\"\"\n",
        "DON'T MODIFY ANYTHING IN THIS CELL\n",
        "\"\"\"\n",
        "def pad_sentence_batch(sentence_batch, pad_int):\n",
        "    \"\"\"Pad sentences with <PAD> so that each sentence of a batch has the same length\"\"\"\n",
        "    max_sentence = max([len(sentence) for sentence in sentence_batch])\n",
        "    return [sentence + [pad_int] * (max_sentence - len(sentence)) for sentence in sentence_batch]\n",
        "\n",
        "\n",
        "def get_batches(sources, targets, batch_size, source_pad_int, target_pad_int):\n",
        "    \"\"\"Batch targets, sources, and the lengths of their sentences together\"\"\"\n",
        "    for batch_i in range(0, len(sources)//batch_size):\n",
        "        start_i = batch_i * batch_size\n",
        "\n",
        "        # Slice the right amount for the batch\n",
        "        sources_batch = sources[start_i:start_i + batch_size]\n",
        "        targets_batch = targets[start_i:start_i + batch_size]\n",
        "\n",
        "        # Pad\n",
        "        pad_sources_batch = np.array(pad_sentence_batch(sources_batch, source_pad_int))\n",
        "        pad_targets_batch = np.array(pad_sentence_batch(targets_batch, target_pad_int))\n",
        "\n",
        "        # Need the lengths for the _lengths parameters\n",
        "        pad_targets_lengths = []\n",
        "        for target in pad_targets_batch:\n",
        "            pad_targets_lengths.append(len(target))\n",
        "\n",
        "        pad_source_lengths = []\n",
        "        for source in pad_sources_batch:\n",
        "            pad_source_lengths.append(len(source))\n",
        "\n",
        "        yield pad_sources_batch, pad_targets_batch, pad_source_lengths, pad_targets_lengths\n"
      ],
      "execution_count": 0,
      "outputs": []
    },
    {
      "metadata": {
        "id": "nMSwEHUCianZ",
        "colab_type": "text"
      },
      "cell_type": "markdown",
      "source": [
        "### Train\n",
        "Train the neural network on the preprocessed data. If you have a hard time getting a good loss, check the forms to see if anyone is having the same problem."
      ]
    },
    {
      "metadata": {
        "id": "PJ51H2TsIP86",
        "colab_type": "code",
        "colab": {
          "autoexec": {
            "startup": false,
            "wait_interval": 0
          }
        }
      },
      "cell_type": "code",
      "source": [
        "import time"
      ],
      "execution_count": 0,
      "outputs": []
    },
    {
      "metadata": {
        "id": "Wr8kVFlXianb",
        "colab_type": "code",
        "colab": {
          "autoexec": {
            "startup": false,
            "wait_interval": 0
          },
          "base_uri": "https://localhost:8080/",
          "height": 884
        },
        "outputId": "8437f28b-340c-4b91-a1e4-b6b56ae471ee",
        "executionInfo": {
          "status": "ok",
          "timestamp": 1533072627815,
          "user_tz": 180,
          "elapsed": 1611146,
          "user": {
            "displayName": "Oriel Zambrano",
            "photoUrl": "//lh6.googleusercontent.com/-yUfK7mUt7_Y/AAAAAAAAAAI/AAAAAAAAFaM/9-vxxTZc2EI/s50-c-k-no/photo.jpg",
            "userId": "106644913354205447818"
          }
        }
      },
      "cell_type": "code",
      "source": [
        "\"\"\"\n",
        "DON'T MODIFY ANYTHING IN THIS CELL\n",
        "\"\"\"\n",
        "def get_accuracy(target, logits):\n",
        "    \"\"\"\n",
        "    Calculate accuracy\n",
        "    \"\"\"\n",
        "    max_seq = max(target.shape[1], logits.shape[1])\n",
        "    if max_seq - target.shape[1]:\n",
        "        target = np.pad(\n",
        "            target,\n",
        "            [(0,0),(0,max_seq - target.shape[1])],\n",
        "            'constant')\n",
        "    if max_seq - logits.shape[1]:\n",
        "        logits = np.pad(\n",
        "            logits,\n",
        "            [(0,0),(0,max_seq - logits.shape[1])],\n",
        "            'constant')\n",
        "\n",
        "    return np.mean(np.equal(target, logits))\n",
        "\n",
        "# Split data to training and validation sets\n",
        "train_source = source_int_text[batch_size:]\n",
        "train_target = target_int_text[batch_size:]\n",
        "valid_source = source_int_text[:batch_size]\n",
        "valid_target = target_int_text[:batch_size]\n",
        "(valid_sources_batch, valid_targets_batch, valid_sources_lengths, valid_targets_lengths ) = next(get_batches(valid_source,\n",
        "                                                                                                             valid_target,\n",
        "                                                                                                             batch_size,\n",
        "                                                                                                             source_vocab_to_int['<PAD>'],\n",
        "                                                                                                             target_vocab_to_int['<PAD>']))                                                                                                  \n",
        "with tf.Session(graph=train_graph) as sess:\n",
        "    sess.run(tf.global_variables_initializer())\n",
        "    initial_time=time.time()\n",
        "    for epoch_i in range(epochs):\n",
        "        for batch_i, (source_batch, target_batch, sources_lengths, targets_lengths) in enumerate(\n",
        "                get_batches(train_source, train_target, batch_size,\n",
        "                            source_vocab_to_int['<PAD>'],\n",
        "                            target_vocab_to_int['<PAD>'])):\n",
        "\n",
        "            _, loss = sess.run(\n",
        "                [train_op, cost],\n",
        "                {input_data: source_batch,\n",
        "                 targets: target_batch,\n",
        "                 lr: learning_rate,\n",
        "                 target_sequence_length: targets_lengths,\n",
        "                 source_sequence_length: sources_lengths,\n",
        "                 keep_prob: keep_probability})\n",
        "\n",
        "\n",
        "            if batch_i % display_step == 0 and batch_i > 0:\n",
        "\n",
        "\n",
        "                batch_train_logits = sess.run(\n",
        "                    inference_logits,\n",
        "                    {input_data: source_batch,\n",
        "                     source_sequence_length: sources_lengths,\n",
        "                     target_sequence_length: targets_lengths,\n",
        "                     keep_prob: 1.0})\n",
        "\n",
        "\n",
        "                batch_valid_logits = sess.run(\n",
        "                    inference_logits,\n",
        "                    {input_data: valid_sources_batch,\n",
        "                     source_sequence_length: valid_sources_lengths,\n",
        "                     target_sequence_length: valid_targets_lengths,\n",
        "                     keep_prob: 1.0})\n",
        "\n",
        "                train_acc = get_accuracy(target_batch, batch_train_logits)\n",
        "\n",
        "                valid_acc = get_accuracy(valid_targets_batch, batch_valid_logits)\n",
        "\n",
        "                print('Epoch {:>3} Batch {:>4}/{} - Train Accuracy: {:>6.4f}, Validation Accuracy: {:>6.4f}, Loss: {:>6.4f}, Time_mins: {:>6.2f}'\n",
        "                      .format(epoch_i, batch_i, len(source_int_text) // batch_size, train_acc, valid_acc, loss, (time.time()-initial_time)/60))\n",
        "\n",
        "    # Save Model\n",
        "    saver = tf.train.Saver()\n",
        "    saver.save(sess, save_path)\n",
        "    print('Model Trained and Saved')"
      ],
      "execution_count": 24,
      "outputs": [
        {
          "output_type": "stream",
          "text": [
            "Epoch   0 Batch   50/269 - Train Accuracy: 0.3996, Validation Accuracy: 0.4589, Loss: 1.6892, Time_mins   0.54\n",
            "Epoch   0 Batch  100/269 - Train Accuracy: 0.4472, Validation Accuracy: 0.4457, Loss: 1.0401, Time_mins   1.04\n",
            "Epoch   0 Batch  150/269 - Train Accuracy: 0.5227, Validation Accuracy: 0.5284, Loss: 0.8745, Time_mins   1.53\n",
            "Epoch   0 Batch  200/269 - Train Accuracy: 0.5543, Validation Accuracy: 0.5549, Loss: 0.7528, Time_mins   2.03\n",
            "Epoch   0 Batch  250/269 - Train Accuracy: 0.5844, Validation Accuracy: 0.5914, Loss: 0.6698, Time_mins   2.54\n",
            "Epoch   1 Batch   50/269 - Train Accuracy: 0.6186, Validation Accuracy: 0.6319, Loss: 0.5761, Time_mins   3.22\n",
            "Epoch   1 Batch  100/269 - Train Accuracy: 0.6652, Validation Accuracy: 0.6489, Loss: 0.4962, Time_mins   3.72\n",
            "Epoch   1 Batch  150/269 - Train Accuracy: 0.7008, Validation Accuracy: 0.7072, Loss: 0.4318, Time_mins   4.23\n",
            "Epoch   1 Batch  200/269 - Train Accuracy: 0.7426, Validation Accuracy: 0.7447, Loss: 0.3793, Time_mins   4.72\n",
            "Epoch   1 Batch  250/269 - Train Accuracy: 0.7479, Validation Accuracy: 0.7723, Loss: 0.3224, Time_mins   5.22\n",
            "Epoch   2 Batch   50/269 - Train Accuracy: 0.7711, Validation Accuracy: 0.7880, Loss: 0.2807, Time_mins   5.89\n",
            "Epoch   2 Batch  100/269 - Train Accuracy: 0.8298, Validation Accuracy: 0.8154, Loss: 0.2234, Time_mins   6.39\n",
            "Epoch   2 Batch  150/269 - Train Accuracy: 0.8581, Validation Accuracy: 0.8723, Loss: 0.1974, Time_mins   6.89\n",
            "Epoch   2 Batch  200/269 - Train Accuracy: 0.8668, Validation Accuracy: 0.8764, Loss: 0.1762, Time_mins   7.39\n",
            "Epoch   2 Batch  250/269 - Train Accuracy: 0.8979, Validation Accuracy: 0.8835, Loss: 0.1464, Time_mins   7.89\n",
            "Epoch   3 Batch   50/269 - Train Accuracy: 0.8870, Validation Accuracy: 0.9108, Loss: 0.1315, Time_mins   8.57\n",
            "Epoch   3 Batch  100/269 - Train Accuracy: 0.9139, Validation Accuracy: 0.9134, Loss: 0.1043, Time_mins   9.08\n",
            "Epoch   3 Batch  150/269 - Train Accuracy: 0.9196, Validation Accuracy: 0.9174, Loss: 0.0983, Time_mins   9.58\n",
            "Epoch   3 Batch  200/269 - Train Accuracy: 0.9413, Validation Accuracy: 0.9424, Loss: 0.0791, Time_mins  10.08\n",
            "Epoch   3 Batch  250/269 - Train Accuracy: 0.9430, Validation Accuracy: 0.9438, Loss: 0.0663, Time_mins  10.58\n",
            "Epoch   4 Batch   50/269 - Train Accuracy: 0.9310, Validation Accuracy: 0.9463, Loss: 0.0684, Time_mins  11.25\n",
            "Epoch   4 Batch  100/269 - Train Accuracy: 0.9477, Validation Accuracy: 0.9585, Loss: 0.0520, Time_mins  11.75\n",
            "Epoch   4 Batch  150/269 - Train Accuracy: 0.9513, Validation Accuracy: 0.9537, Loss: 0.0467, Time_mins  12.25\n",
            "Epoch   4 Batch  200/269 - Train Accuracy: 0.9629, Validation Accuracy: 0.9593, Loss: 0.0409, Time_mins  12.75\n",
            "Epoch   4 Batch  250/269 - Train Accuracy: 0.9522, Validation Accuracy: 0.9564, Loss: 0.0458, Time_mins  13.26\n",
            "Epoch   5 Batch   50/269 - Train Accuracy: 0.9402, Validation Accuracy: 0.9646, Loss: 0.0458, Time_mins  13.94\n",
            "Epoch   5 Batch  100/269 - Train Accuracy: 0.9646, Validation Accuracy: 0.9628, Loss: 0.0401, Time_mins  14.43\n",
            "Epoch   5 Batch  150/269 - Train Accuracy: 0.9647, Validation Accuracy: 0.9635, Loss: 0.0342, Time_mins  14.93\n",
            "Epoch   5 Batch  200/269 - Train Accuracy: 0.9620, Validation Accuracy: 0.9679, Loss: 0.0307, Time_mins  15.43\n",
            "Epoch   5 Batch  250/269 - Train Accuracy: 0.9599, Validation Accuracy: 0.9632, Loss: 0.0342, Time_mins  15.93\n",
            "Epoch   6 Batch   50/269 - Train Accuracy: 0.9534, Validation Accuracy: 0.9727, Loss: 0.0388, Time_mins  16.61\n",
            "Epoch   6 Batch  100/269 - Train Accuracy: 0.9623, Validation Accuracy: 0.9707, Loss: 0.0318, Time_mins  17.12\n",
            "Epoch   6 Batch  150/269 - Train Accuracy: 0.9673, Validation Accuracy: 0.9654, Loss: 0.0273, Time_mins  17.61\n",
            "Epoch   6 Batch  200/269 - Train Accuracy: 0.9818, Validation Accuracy: 0.9721, Loss: 0.0233, Time_mins  18.11\n",
            "Epoch   6 Batch  250/269 - Train Accuracy: 0.9685, Validation Accuracy: 0.9687, Loss: 0.0253, Time_mins  18.61\n",
            "Epoch   7 Batch   50/269 - Train Accuracy: 0.9602, Validation Accuracy: 0.9723, Loss: 0.0309, Time_mins  19.29\n",
            "Epoch   7 Batch  100/269 - Train Accuracy: 0.9692, Validation Accuracy: 0.9725, Loss: 0.0258, Time_mins  19.79\n",
            "Epoch   7 Batch  150/269 - Train Accuracy: 0.9705, Validation Accuracy: 0.9690, Loss: 0.0259, Time_mins  20.28\n",
            "Epoch   7 Batch  200/269 - Train Accuracy: 0.9848, Validation Accuracy: 0.9705, Loss: 0.0206, Time_mins  20.78\n",
            "Epoch   7 Batch  250/269 - Train Accuracy: 0.9753, Validation Accuracy: 0.9702, Loss: 0.0233, Time_mins  21.28\n",
            "Epoch   8 Batch   50/269 - Train Accuracy: 0.9699, Validation Accuracy: 0.9710, Loss: 0.0276, Time_mins  21.96\n"
          ],
          "name": "stdout"
        },
        {
          "output_type": "stream",
          "text": [
            "Epoch   8 Batch  100/269 - Train Accuracy: 0.9765, Validation Accuracy: 0.9763, Loss: 0.0248, Time_mins  22.46\n",
            "Epoch   8 Batch  150/269 - Train Accuracy: 0.9819, Validation Accuracy: 0.9624, Loss: 0.0207, Time_mins  22.96\n",
            "Epoch   8 Batch  200/269 - Train Accuracy: 0.9833, Validation Accuracy: 0.9770, Loss: 0.0186, Time_mins  23.47\n",
            "Epoch   8 Batch  250/269 - Train Accuracy: 0.9770, Validation Accuracy: 0.9783, Loss: 0.0212, Time_mins  23.98\n",
            "Epoch   9 Batch   50/269 - Train Accuracy: 0.9695, Validation Accuracy: 0.9758, Loss: 0.0222, Time_mins  24.65\n",
            "Epoch   9 Batch  100/269 - Train Accuracy: 0.9781, Validation Accuracy: 0.9776, Loss: 0.0221, Time_mins  25.15\n",
            "Epoch   9 Batch  150/269 - Train Accuracy: 0.9862, Validation Accuracy: 0.9697, Loss: 0.0191, Time_mins  25.65\n",
            "Epoch   9 Batch  200/269 - Train Accuracy: 0.9856, Validation Accuracy: 0.9770, Loss: 0.0145, Time_mins  26.15\n",
            "Epoch   9 Batch  250/269 - Train Accuracy: 0.9796, Validation Accuracy: 0.9755, Loss: 0.0170, Time_mins  26.65\n",
            "Model Trained and Saved\n"
          ],
          "name": "stdout"
        }
      ]
    },
    {
      "metadata": {
        "id": "5CKe-jhgiand",
        "colab_type": "text"
      },
      "cell_type": "markdown",
      "source": [
        "### Save Parameters\n",
        "Save the `batch_size` and `save_path` parameters for inference."
      ]
    },
    {
      "metadata": {
        "id": "PTsSTce0iane",
        "colab_type": "code",
        "colab": {
          "autoexec": {
            "startup": false,
            "wait_interval": 0
          }
        }
      },
      "cell_type": "code",
      "source": [
        "\"\"\"\n",
        "DON'T MODIFY ANYTHING IN THIS CELL\n",
        "\"\"\"\n",
        "# Save parameters for checkpoint\n",
        "helper.save_params(save_path)"
      ],
      "execution_count": 0,
      "outputs": []
    },
    {
      "metadata": {
        "id": "iu7jGcu0ianh",
        "colab_type": "text"
      },
      "cell_type": "markdown",
      "source": [
        "# Checkpoint"
      ]
    },
    {
      "metadata": {
        "id": "s8_oYgD3ianj",
        "colab_type": "code",
        "colab": {
          "autoexec": {
            "startup": false,
            "wait_interval": 0
          }
        }
      },
      "cell_type": "code",
      "source": [
        "\"\"\"\n",
        "DON'T MODIFY ANYTHING IN THIS CELL\n",
        "\"\"\"\n",
        "import tensorflow as tf\n",
        "import numpy as np\n",
        "import helper\n",
        "import problem_unittests as tests\n",
        "\n",
        "_, (source_vocab_to_int, target_vocab_to_int), (source_int_to_vocab, target_int_to_vocab) = helper.load_preprocess()\n",
        "load_path = helper.load_params()"
      ],
      "execution_count": 0,
      "outputs": []
    },
    {
      "metadata": {
        "id": "7HA8OXeRiann",
        "colab_type": "text"
      },
      "cell_type": "markdown",
      "source": [
        "## Sentence to Sequence\n",
        "To feed a sentence into the model for translation, you first need to preprocess it.  Implement the function `sentence_to_seq()` to preprocess new sentences.\n",
        "\n",
        "- Convert the sentence to lowercase\n",
        "- Convert words into ids using `vocab_to_int`\n",
        " - Convert words not in the vocabulary, to the `<UNK>` word id."
      ]
    },
    {
      "metadata": {
        "id": "baULIFerianp",
        "colab_type": "code",
        "colab": {
          "autoexec": {
            "startup": false,
            "wait_interval": 0
          },
          "base_uri": "https://localhost:8080/",
          "height": 34
        },
        "outputId": "690e9193-c991-4798-9a19-52b0cb0b3f40",
        "executionInfo": {
          "status": "ok",
          "timestamp": 1533072631238,
          "user_tz": 180,
          "elapsed": 830,
          "user": {
            "displayName": "Oriel Zambrano",
            "photoUrl": "//lh6.googleusercontent.com/-yUfK7mUt7_Y/AAAAAAAAAAI/AAAAAAAAFaM/9-vxxTZc2EI/s50-c-k-no/photo.jpg",
            "userId": "106644913354205447818"
          }
        }
      },
      "cell_type": "code",
      "source": [
        "def sentence_to_seq(sentence, vocab_to_int):\n",
        "    \"\"\"\n",
        "    Convert a sentence to a sequence of ids\n",
        "    :param sentence: String\n",
        "    :param vocab_to_int: Dictionary to go from the words to an id\n",
        "    :return: List of word ids\n",
        "    \"\"\"\n",
        "    senten_low=sentence.lower()\n",
        "    list_words_ids=[vocab_to_int.get(word, vocab_to_int['<UNK>']) for word in senten_low.split()]\n",
        "    return list_words_ids\n",
        "\n",
        "\n",
        "\"\"\"\n",
        "DON'T MODIFY ANYTHING IN THIS CELL THAT IS BELOW THIS LINE\n",
        "\"\"\"\n",
        "tests.test_sentence_to_seq(sentence_to_seq)"
      ],
      "execution_count": 27,
      "outputs": [
        {
          "output_type": "stream",
          "text": [
            "Tests Passed\n"
          ],
          "name": "stdout"
        }
      ]
    },
    {
      "metadata": {
        "id": "xGkaa9a2ians",
        "colab_type": "text"
      },
      "cell_type": "markdown",
      "source": [
        "## Translate\n",
        "This will translate `translate_sentence` from English to French."
      ]
    },
    {
      "metadata": {
        "id": "UumB53y2iant",
        "colab_type": "code",
        "colab": {
          "autoexec": {
            "startup": false,
            "wait_interval": 0
          },
          "base_uri": "https://localhost:8080/",
          "height": 153
        },
        "outputId": "d3f01ea3-950d-437e-e4eb-47f6f2ee51f0",
        "executionInfo": {
          "status": "ok",
          "timestamp": 1533072633898,
          "user_tz": 180,
          "elapsed": 2544,
          "user": {
            "displayName": "Oriel Zambrano",
            "photoUrl": "//lh6.googleusercontent.com/-yUfK7mUt7_Y/AAAAAAAAAAI/AAAAAAAAFaM/9-vxxTZc2EI/s50-c-k-no/photo.jpg",
            "userId": "106644913354205447818"
          }
        }
      },
      "cell_type": "code",
      "source": [
        "translate_sentence = 'he saw a old yellow truck .'\n",
        "\n",
        "\n",
        "\"\"\"\n",
        "DON'T MODIFY ANYTHING IN THIS CELL\n",
        "\"\"\"\n",
        "translate_sentence = sentence_to_seq(translate_sentence, source_vocab_to_int)\n",
        "\n",
        "loaded_graph = tf.Graph()\n",
        "with tf.Session(graph=loaded_graph) as sess:\n",
        "    # Load saved model\n",
        "    loader = tf.train.import_meta_graph(load_path + '.meta')\n",
        "    loader.restore(sess, load_path)\n",
        "\n",
        "    input_data = loaded_graph.get_tensor_by_name('input:0')\n",
        "    logits = loaded_graph.get_tensor_by_name('predictions:0')\n",
        "    target_sequence_length = loaded_graph.get_tensor_by_name('target_sequence_length:0')\n",
        "    source_sequence_length = loaded_graph.get_tensor_by_name('source_sequence_length:0')\n",
        "    keep_prob = loaded_graph.get_tensor_by_name('keep_prob:0')\n",
        "\n",
        "    translate_logits = sess.run(logits, {input_data: [translate_sentence]*batch_size,\n",
        "                                         target_sequence_length: [len(translate_sentence)*2]*batch_size,\n",
        "                                         source_sequence_length: [len(translate_sentence)]*batch_size,\n",
        "                                         keep_prob: 1.0})[0]\n",
        "\n",
        "print('Input')\n",
        "print('  Word Ids:      {}'.format([i for i in translate_sentence]))\n",
        "print('  English Words: {}'.format([source_int_to_vocab[i] for i in translate_sentence]))\n",
        "\n",
        "print('\\nPrediction')\n",
        "print('  Word Ids:      {}'.format([i for i in translate_logits]))\n",
        "print('  French Words: {}'.format(\" \".join([target_int_to_vocab[i] for i in translate_logits])))\n"
      ],
      "execution_count": 28,
      "outputs": [
        {
          "output_type": "stream",
          "text": [
            "INFO:tensorflow:Restoring parameters from checkpoints/dev\n",
            "Input\n",
            "  Word Ids:      [64, 89, 51, 200, 7, 59, 27]\n",
            "  English Words: ['he', 'saw', 'a', 'old', 'yellow', 'truck', '.']\n",
            "\n",
            "Prediction\n",
            "  Word Ids:      [140, 210, 354, 349, 64, 118, 49, 17, 1]\n",
            "  French Words: il a vu un vieux camion jaune . <EOS>\n"
          ],
          "name": "stdout"
        }
      ]
    },
    {
      "metadata": {
        "id": "tLxP23ysianv",
        "colab_type": "text"
      },
      "cell_type": "markdown",
      "source": [
        "## Imperfect Translation\n",
        "You might notice that some sentences translate better than others.  Since the dataset you're using only has a vocabulary of 227 English words of the thousands that you use, you're only going to see good results using these words.  For this project, you don't need a perfect translation. However, if you want to create a better translation model, you'll need better data.\n",
        "\n",
        "You can train on the [WMT10 French-English corpus](http://www.statmt.org/wmt10/training-giga-fren.tar).  This dataset has more vocabulary and richer in topics discussed.  However, this will take you days to train, so make sure you've a GPU and the neural network is performing well on dataset we provided.  Just make sure you play with the WMT10 corpus after you've submitted this project.\n",
        "## Submitting This Project\n",
        "When submitting this project, make sure to run all the cells before saving the notebook. Save the notebook file as \"dlnd_language_translation.ipynb\" and save it as a HTML file under \"File\" -> \"Download as\". Include the \"helper.py\" and \"problem_unittests.py\" files in your submission."
      ]
    }
  ]
}